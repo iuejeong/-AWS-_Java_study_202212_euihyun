{
 "cells": [
  {
   "cell_type": "code",
   "execution_count": 95,
   "id": "c8bd1db6",
   "metadata": {},
   "outputs": [],
   "source": [
    "import numpy as np\n",
    "import pandas as pd\n",
    "import matplotlib.pyplot as plt\n",
    "import pickle\n",
    "\n",
    "pd_rawdata = pd.read_csv('전국노인장애인보호구역표준데이터.csv', encoding = 'cp949')\n",
    "column_selection = ['시도명', '제한속도', 'CCTV설치여부', 'CCTV설치대수', '보호구역도로폭']\n",
    "pd_data = pd_rawdata[column_selection]"
   ]
  },
  {
   "cell_type": "code",
   "execution_count": 96,
   "id": "9ba5463d",
   "metadata": {},
   "outputs": [
    {
     "name": "stdout",
     "output_type": "stream",
     "text": [
      "(2518, 5)\n",
      "시도명          object\n",
      "제한속도          int64\n",
      "CCTV설치여부     object\n",
      "CCTV설치대수    float64\n",
      "보호구역도로폭      object\n",
      "dtype: object\n",
      "시도명 False\n",
      "제한속도 False\n",
      "CCTV설치여부 False\n",
      "CCTV설치대수 True\n",
      "보호구역도로폭 True\n"
     ]
    }
   ],
   "source": [
    "print(pd_data.shape)\n",
    "print(pd_data.dtypes)\n",
    "\n",
    "for e in pd_data:\n",
    "    print(e, pd_data[e].hasnans)"
   ]
  },
  {
   "cell_type": "code",
   "execution_count": 97,
   "id": "4ac37311",
   "metadata": {},
   "outputs": [
    {
     "name": "stdout",
     "output_type": "stream",
     "text": [
      "['서울특별시' '경상북도' '충청남도' '강원도' '경기도' '전라북도' '대전광역시' '경상남도' '인천광역시' '울산광역시'\n",
      " '부산광역시' '대구광역시' '충청북도' '전라남도' '광주광역시' '세종특별자치시' '제주특별자치도']\n",
      "False\n"
     ]
    }
   ],
   "source": [
    "# 시도명\n",
    "\n",
    "print(pd_data['시도명'].unique())\n",
    "print(pd_data['시도명'].hasnans)\n",
    "\n",
    "# 결측치, 오류치, 이상치: 없음"
   ]
  },
  {
   "cell_type": "code",
   "execution_count": 98,
   "id": "8c2e9f18",
   "metadata": {},
   "outputs": [
    {
     "name": "stdout",
     "output_type": "stream",
     "text": [
      "[30 50 60 40 38 39 41 42 43 44 45 46 47 48 49 51 52 53 54 55 31 32 33 34\n",
      " 35 36 37 20]\n",
      "False\n"
     ]
    }
   ],
   "source": [
    "# 제한속도\n",
    "\n",
    "print(pd_data['제한속도'].unique())\n",
    "print(pd_data['제한속도'].hasnans)\n",
    "\n",
    "# 결측치, 오류치, 이상치: 없음"
   ]
  },
  {
   "cell_type": "code",
   "execution_count": 99,
   "id": "a05365d3",
   "metadata": {},
   "outputs": [
    {
     "name": "stdout",
     "output_type": "stream",
     "text": [
      "['Y' 'N']\n",
      "False\n"
     ]
    }
   ],
   "source": [
    "# CCTV 설치여부\n",
    "\n",
    "print(pd_data['CCTV설치여부'].unique())\n",
    "print(pd_data['CCTV설치여부'].hasnans)\n",
    "\n",
    "# 결측치, 오류치, 이상치: 없음"
   ]
  },
  {
   "cell_type": "code",
   "execution_count": 100,
   "id": "5da4227a",
   "metadata": {},
   "outputs": [
    {
     "name": "stdout",
     "output_type": "stream",
     "text": [
      "[ 1. nan  0.  2.  4.  3.  5.  8.  9.]\n",
      "True\n",
      "True     1551\n",
      "False     967\n",
      "Name: CCTV설치대수, dtype: int64\n",
      "[1. 0. 2. 4. 3. 5. 8. 9.]\n",
      "False\n"
     ]
    }
   ],
   "source": [
    "# CCTV설치대수\n",
    "\n",
    "print(pd_data['CCTV설치대수'].unique())\n",
    "print(pd_data['CCTV설치대수'].hasnans)\n",
    "\n",
    "# 결측치: np.NaN --> 0\n",
    "na_filter = pd_data['CCTV설치대수'].isna()\n",
    "print(na_filter.value_counts())\n",
    "pd_data.loc[na_filter, 'CCTV설치대수'] = 0\n",
    "\n",
    "# 오류치, 이상치: 없음\n",
    "\n",
    "print(pd_data['CCTV설치대수'].unique())\n",
    "print(pd_data['CCTV설치대수'].hasnans)"
   ]
  },
  {
   "cell_type": "code",
   "execution_count": 101,
   "id": "8331a976",
   "metadata": {},
   "outputs": [
    {
     "name": "stdout",
     "output_type": "stream",
     "text": [
      "['3' '6' '7' '8' '9' nan '7.5' '6.5' '15' '11' '4' '20' '12' '13' '28'\n",
      " '20~34' '10' '15~20' '24' '25' '5' '14' '6~12' '16' '17~22' '4.5~5' '4.5'\n",
      " '20~23' '6~8' '33' '30' '12~13' '10~12' '8~9' '9~10' '4~30' '7~12' '35'\n",
      " '9.6~14.6' '14~25' '12~20' '21' '5~20' '1' '6~14' '5~7' '5~6' '7~11'\n",
      " '8~20' '4~8' '4~7' '18' '16~20' '5.5' '23' '6~10' '10~30' '6~7' '8~10'\n",
      " '36' '6~25' '22' '5.2' '10~15' '8.5' '6.5~12' '5~10' '0' '29' '5~8' '5~9'\n",
      " '33~35' '8 ~25' '7~9' '13~14' '5~11' '5~30' '5~15' '10~14' '26' '7~8'\n",
      " '4.5~6.5' '18~36' '5~16' '17' '10~35' '19' '8~12' '6~9' '7.5~12' '4~8.5'\n",
      " '5.0~11' '7.5~8' '8.5~25' '8.5~11' '6~13' '7~10' '40' '8~14' '20~30'\n",
      " '3~5' '8~35' '12~16' '13~15' '7~15' '5.7' '8.4' '3~4' '6.3~14.8' '2']\n",
      "True\n",
      "False    1484\n",
      "True     1034\n",
      "Name: 보호구역도로폭, dtype: int64\n",
      "['3' '6' '7' '8' '9' '0' '7.5' '6.5' '15' '11' '4' '20' '12' '13' '28'\n",
      " '20~34' '10' '15~20' '24' '25' '5' '14' '6~12' '16' '17~22' '4.5~5' '4.5'\n",
      " '20~23' '6~8' '33' '30' '12~13' '10~12' '8~9' '9~10' '4~30' '7~12' '35'\n",
      " '9.6~14.6' '14~25' '12~20' '21' '5~20' '1' '6~14' '5~7' '5~6' '7~11'\n",
      " '8~20' '4~8' '4~7' '18' '16~20' '5.5' '23' '6~10' '10~30' '6~7' '8~10'\n",
      " '36' '6~25' '22' '5.2' '10~15' '8.5' '6.5~12' '5~10' '29' '5~8' '5~9'\n",
      " '33~35' '8 ~25' '7~9' '13~14' '5~11' '5~30' '5~15' '10~14' '26' '7~8'\n",
      " '4.5~6.5' '18~36' '5~16' '17' '10~35' '19' '8~12' '6~9' '7.5~12' '4~8.5'\n",
      " '5.0~11' '7.5~8' '8.5~25' '8.5~11' '6~13' '7~10' '40' '8~14' '20~30'\n",
      " '3~5' '8~35' '12~16' '13~15' '7~15' '5.7' '8.4' '3~4' '6.3~14.8' '2']\n",
      "False\n",
      "0          1035\n",
      "6           301\n",
      "8           281\n",
      "7           189\n",
      "7~11         85\n",
      "           ... \n",
      "4~30          1\n",
      "4.5~6.5       1\n",
      "18~36         1\n",
      "5~16          1\n",
      "5~20          1\n",
      "Name: 보호구역도로폭, Length: 109, dtype: int64\n",
      "object\n",
      "9.0      93\n",
      "7.0      44\n",
      "12.5     20\n",
      "18.0      8\n",
      "6.0       8\n",
      "6.5       6\n",
      "5.5       6\n",
      "10.0      6\n",
      "8.0       6\n",
      "17.5      5\n",
      "7.5       5\n",
      "11.0      5\n",
      "14.0      4\n",
      "9.5       3\n",
      "21.5      3\n",
      "8.5       3\n",
      "15.5      2\n",
      "9.75      2\n",
      "4.0       2\n",
      "27.0      2\n",
      "10.55     2\n",
      "19.5      2\n",
      "22.5      1\n",
      "3.5       1\n",
      "25.0      1\n",
      "16.75     1\n",
      "7.75      1\n",
      "6.25      1\n",
      "4.75      1\n",
      "20.0      1\n",
      "16.0      1\n",
      "12.0      1\n",
      "13.5      1\n",
      "16.5      1\n",
      "34.0      1\n",
      "17.0      1\n",
      "9.25      1\n",
      "12.1      1\n",
      "10.5      1\n",
      "Name: 보호구역도로폭, dtype: int64\n",
      "False    2518\n",
      "Name: 보호구역도로폭, dtype: int64\n",
      "False    2453\n",
      "True       65\n",
      "Name: 보호구역도로폭, dtype: int64\n",
      "10.005708661417323 10.005708661417323\n",
      "[10.00570866         nan  9.          4.75        7.          8.5\n",
      "  9.5        10.          6.          5.5         8.          6.5\n",
      "  9.25        7.5         9.75        6.25        7.75        4.\n",
      "  3.5       ]\n",
      "True\n"
     ]
    },
    {
     "name": "stderr",
     "output_type": "stream",
     "text": [
      "C:\\Users\\ITPS\\AppData\\Local\\Temp\\ipykernel_11728\\1356124554.py:30: SettingWithCopyWarning: \n",
      "A value is trying to be set on a copy of a slice from a DataFrame.\n",
      "Try using .loc[row_indexer,col_indexer] = value instead\n",
      "\n",
      "See the caveats in the documentation: https://pandas.pydata.org/pandas-docs/stable/user_guide/indexing.html#returning-a-view-versus-a-copy\n",
      "  pd_data['보호구역도로폭'] = y\n"
     ]
    }
   ],
   "source": [
    "# 보호구역도로폭\n",
    "\n",
    "print(pd_data['보호구역도로폭'].unique())\n",
    "print(pd_data['보호구역도로폭'].hasnans)\n",
    "\n",
    "# 결측치: np.NaN -> 0\n",
    "na_filter = pd_data['보호구역도로폭'].isna()\n",
    "print(na_filter.value_counts())\n",
    "pd_data.loc[na_filter, '보호구역도로폭'] = '0'\n",
    "\n",
    "print(pd_data['보호구역도로폭'].unique())\n",
    "print(pd_data['보호구역도로폭'].hasnans)\n",
    "\n",
    "def myfn1(x):\n",
    "    if type(x) == type(' '):\n",
    "        if '~' in x:\n",
    "            m = np.array(x.split('~')).astype(np.float64).mean()\n",
    "            return str(m)\n",
    "\n",
    "    \n",
    "# 오류치: '숫자a ~ 숫자b' 형태의 문자열 --> '숫자a'와 '숫자b'의 평균치(np.float64) 값으로 대체\n",
    "print(pd_data['보호구역도로폭'].value_counts())\n",
    "y = pd_data['보호구역도로폭'].apply(myfn1)\n",
    "print(y.dtype)\n",
    "print(y.value_counts())\n",
    "\n",
    "y = y.astype(np.float64)\n",
    "y = y.replace(np.NaN, y.mean())\n",
    "\n",
    "pd_data['보호구역도로폭'] = y\n",
    "na_filter = pd_data['보호구역도로폭'].isna()\n",
    "print(na_filter.value_counts())\n",
    "\n",
    "# 이상치: upper 보다 큰 값을 np.NaN으로 교체, 후에 dropna() 이용 샘플 삭제\n",
    "q1, q3 = pd_data['보호구역도로폭'].quantile([0.25, 0.75])\n",
    "iqr = q3 - q1\n",
    "upper = q3 + 1.5 * iqr\n",
    "lower = q1 - 1.5 * iqr\n",
    "filter1 = pd_data['보호구역도로폭'] > upper\n",
    "print(filter1.value_counts())\n",
    "pd_data.loc[filter1, '보호구역도로폭'] = np.NaN\n",
    "print(lower, upper)\n",
    "\n",
    "print(pd_data['보호구역도로폭'].unique())\n",
    "print(pd_data['보호구역도로폭'].hasnans)"
   ]
  },
  {
   "cell_type": "code",
   "execution_count": 104,
   "id": "a5b47581",
   "metadata": {},
   "outputs": [
    {
     "name": "stdout",
     "output_type": "stream",
     "text": [
      "(2518, 5)\n",
      "(2453, 5)\n"
     ]
    }
   ],
   "source": [
    "pd_data_f = pd_data.dropna()\n",
    "print(pd_data.shape)\n",
    "print(pd_data_f.shape)\n",
    "pd_data_f.to_pickle('old.pkl')\n"
   ]
  }
 ],
 "metadata": {
  "kernelspec": {
   "display_name": "Python 3 (ipykernel)",
   "language": "python",
   "name": "python3"
  },
  "language_info": {
   "codemirror_mode": {
    "name": "ipython",
    "version": 3
   },
   "file_extension": ".py",
   "mimetype": "text/x-python",
   "name": "python",
   "nbconvert_exporter": "python",
   "pygments_lexer": "ipython3",
   "version": "3.10.9"
  }
 },
 "nbformat": 4,
 "nbformat_minor": 5
}
