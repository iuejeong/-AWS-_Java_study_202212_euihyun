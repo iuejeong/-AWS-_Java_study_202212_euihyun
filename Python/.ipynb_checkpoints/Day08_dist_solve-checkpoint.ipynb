{
 "cells": [
  {
   "cell_type": "code",
   "execution_count": 4,
   "id": "12baeced",
   "metadata": {},
   "outputs": [
    {
     "name": "stdout",
     "output_type": "stream",
     "text": [
      "15.132745950421556\n",
      "x: 2 4\n",
      "y: 15 225\n",
      "15.132745950421556\n",
      "15.132745950421556\n"
     ]
    }
   ],
   "source": [
    "import numpy as np\n",
    "import math\n",
    "\n",
    "def my_split(s):\n",
    "    block_start = False\n",
    "    start_index = 0\n",
    "    ret_list=[]\n",
    "    for i, c in enumerate(s):\n",
    "        if block_start==False:\n",
    "            if c==',':\n",
    "                ret_list.append(s[start_index:i])\n",
    "                start_index=i+1\n",
    "            elif c=='\"':\n",
    "                block_start=True\n",
    "                start_index = i\n",
    "        else:\n",
    "            if c=='\"':\n",
    "                block_start=False\n",
    "    if s[-1]!=',':\n",
    "        ret_list.append(s[start_index:])\n",
    "    return ret_list\n",
    "\n",
    "x1 = 3\n",
    "y1 = 10\n",
    "\n",
    "x2 = 5\n",
    "y2 = 25\n",
    "\n",
    "a = math.sqrt((x2 - x1) ** 2 + (y2 - y1) ** 2)\n",
    "print(a)\n",
    "\n",
    "def dist(p1, p2):      # python list ver.\n",
    "    print('x:', (p2[0] - p1[0]), (p2[0] - p1[0]) ** 2)\n",
    "    print('y:', (p2[1] - p1[1]), (p2[1] - p1[1]) ** 2)\n",
    "    return math.sqrt((p2[0] - p1[0]) ** 2 + (p2[1] - p1[1]) ** 2)\n",
    "    \n",
    "def dist_np(p1, p2):     #  [3, 10]  [5, 25]\n",
    "    i = p2 - p1   # [2, 15]\n",
    "    i = sum(i*i)    # [4, 225]\n",
    "    return math.sqrt(i)\n",
    "\n",
    "def dist_np2(p1, p2):\n",
    "    return math.sqrt(sum((p2-p1) ** 2))\n",
    "\n",
    "    \n",
    "b = dist([x1, y1], [x2, y2])   \n",
    "print(b)   #15.132745950421556\n",
    "\n",
    "c = dist_np2(np.array([x1, y1]), np.array([x2, y2]))\n",
    "print(c)"
   ]
  },
  {
   "cell_type": "code",
   "execution_count": 5,
   "id": "0bc898b7",
   "metadata": {},
   "outputs": [],
   "source": [
    "csv_data = []\n",
    "with open('전국자동차정비업체표준데이터.csv') as f:\n",
    "    for line in f:\n",
    "        csv_data.append(my_split(line))"
   ]
  },
  {
   "cell_type": "code",
   "execution_count": 22,
   "id": "79f41647",
   "metadata": {},
   "outputs": [
    {
     "name": "stdout",
     "output_type": "stream",
     "text": [
      "[[36.93385095, 129.2462157], [36.9337494, 127.4605018], [36.93372085, 127.8917746]]\n"
     ]
    }
   ],
   "source": [
    "loc_list = []\n",
    "for e in csv_data[1:]:\n",
    "    loc_list.append(e[4:6])\n",
    "    \n",
    "for e in loc_list:\n",
    "    for i, v in enumerate(e):\n",
    "        try:\n",
    "            e[i] = float(v)\n",
    "        except:\n",
    "            e[i] = 0.0\n",
    "print(loc_list[:3])"
   ]
  },
  {
   "cell_type": "code",
   "execution_count": 26,
   "id": "dedbee5c",
   "metadata": {},
   "outputs": [
    {
     "name": "stdout",
     "output_type": "stream",
     "text": [
      "[[0, 1.7905025454917363], [1, 2.393287976605315], [2, 2.129419351921983]]\n"
     ]
    }
   ],
   "source": [
    "target_p = np.array([35.1531, 129.0596])\n",
    "dist_list = []\n",
    "\n",
    "for i, p2 in enumerate(loc_list):\n",
    "    try:\n",
    "        dist_list.append([i, dist_np(target_p, np.array(p2))])\n",
    "    except:\n",
    "        dist_list.append([i, 100.0])\n",
    "print(dist_list[:3])\n",
    "\n",
    "\n"
   ]
  },
  {
   "cell_type": "code",
   "execution_count": 27,
   "id": "3652d279",
   "metadata": {},
   "outputs": [
    {
     "name": "stdout",
     "output_type": "stream",
     "text": [
      "[[42789, 0.00422751591405875], [42736, 0.004664402222051449], [42809, 0.005492081395315601], [42717, 0.005953129867528799], [42731, 0.006143105629974679]]\n"
     ]
    }
   ],
   "source": [
    "r = sorted(dist_list, key = lambda x:x[1])\n",
    "print(r[:5])"
   ]
  },
  {
   "cell_type": "code",
   "execution_count": 28,
   "id": "680abdd1",
   "metadata": {},
   "outputs": [
    {
     "name": "stdout",
     "output_type": "stream",
     "text": [
      "['르노코리아자동차서비스코너양정점', '03', '부산광역시 부산진구 동평로 327', '부산광역시 부산진구 양정동 477-7', '35.17430279', '129.0609654', '1999-08-25', '1000', '1', '', '', '', '09:00', '18:00', '', '부산광역시 부산진구청', '051-605-4657', '2022-11-17', '3290000', '부산광역시 부산진구\\n']\n",
      "['케이오토미션', '3', '전라남도 목포시 용당로77번길 8 (산정동)', '전라남도 목포시 산정동 1287-3', '34.794587479', '126.401374392', '2022-01-03', '154', '1', '', '', '', '09:00', '18:00', '061-272-7507', '전라남도 목포시청', '061-270-8241', '2022-11-25', '4800000', '전라남도 목포시\\n']\n",
      "['프로디테일(카쎈팩토리)', '03', '부산광역시 부산진구 거제대로 14', '부산광역시 부산진구 양정동 402-15', '35.16970197', '129.0677114', '1997-11-27', '1000', '1', '', '', '', '09:00', '18:00', '', '부산광역시 부산진구청', '051-605-4657', '2022-11-17', '3290000', '부산광역시 부산진구\\n']\n",
      "['최기사카클리닉', '03', '부산광역시 부산진구 엄광로 511-1', '부산광역시 부산진구 범천동 1521-65', '35.14429293', '129.048844', '2007-09-19', '1000', '1', '', '', '', '09:00', '18:00', '', '부산광역시 부산진구청', '051-605-4657', '2022-11-17', '3290000', '부산광역시 부산진구\\n']\n",
      "['명인모터스', '03', '부산광역시 부산진구 자유평화로37번길 15-10', '부산광역시 부산진구 범천동 839-9', '35.14232963', '129.0631067', '2014-07-31', '1000', '1', '', '', '', '09:00', '18:00', '', '부산광역시 부산진구청', '051-605-4657', '2022-11-17', '3290000', '부산광역시 부산진구\\n']\n"
     ]
    }
   ],
   "source": [
    "for x in r[:5]:\n",
    "    print(csv_data[x[0]])"
   ]
  }
 ],
 "metadata": {
  "kernelspec": {
   "display_name": "Python 3 (ipykernel)",
   "language": "python",
   "name": "python3"
  },
  "language_info": {
   "codemirror_mode": {
    "name": "ipython",
    "version": 3
   },
   "file_extension": ".py",
   "mimetype": "text/x-python",
   "name": "python",
   "nbconvert_exporter": "python",
   "pygments_lexer": "ipython3",
   "version": "3.10.9"
  }
 },
 "nbformat": 4,
 "nbformat_minor": 5
}
