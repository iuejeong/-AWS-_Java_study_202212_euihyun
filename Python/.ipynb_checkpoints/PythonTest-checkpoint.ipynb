{
 "cells": [
  {
   "cell_type": "code",
   "execution_count": 49,
   "id": "b191a8ae",
   "metadata": {},
   "outputs": [
    {
     "data": {
      "text/plain": [
       "True"
      ]
     },
     "execution_count": 49,
     "metadata": {},
     "output_type": "execute_result"
    }
   ],
   "source": [
    "# def my_sq_prod(number_list):\n",
    "\n",
    "#     return_value = 1\n",
    "\n",
    "#     for number in number_list:\n",
    "        \n",
    "#         return_value = return_value * number**2\n",
    "        \n",
    "#     return return_value\n",
    "\n",
    " \n",
    "\n",
    "# assert my_sq_prod([1,2,3]) == 36\n",
    "\n",
    "import math\n",
    "\n",
    "# def my_sq_prod(python_list):\n",
    "    \n",
    "#     return_list = []\n",
    "    \n",
    "#     return_list.append(math.prod(python_list))\n",
    "#     return return_list\n",
    "\n",
    "import numpy as np\n",
    "\n",
    "# def my_sq_prod(numpy_ndarray):\n",
    "    \n",
    "#     a = numpy_ndarray\n",
    "#     b = np.prod((a*a))\n",
    "    \n",
    "#     return b\n",
    "# assert my_sq_prod(np.array([4,5,6])) == 14400"
   ]
  }
 ],
 "metadata": {
  "kernelspec": {
   "display_name": "Python 3 (ipykernel)",
   "language": "python",
   "name": "python3"
  },
  "language_info": {
   "codemirror_mode": {
    "name": "ipython",
    "version": 3
   },
   "file_extension": ".py",
   "mimetype": "text/x-python",
   "name": "python",
   "nbconvert_exporter": "python",
   "pygments_lexer": "ipython3",
   "version": "3.10.9"
  }
 },
 "nbformat": 4,
 "nbformat_minor": 5
}
