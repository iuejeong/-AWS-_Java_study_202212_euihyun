{
 "cells": [
  {
   "cell_type": "markdown",
   "id": "5c340a2d",
   "metadata": {},
   "source": [
    "#### 전복\n",
    "\n",
    "data url: https://archive.ics.uci.edu/ml/machine-learning-databases/abalone/abalone.data\n",
    "\n",
    "1. [함수] requests 패키지를 이용해 데이터 가져와서 ndarray로 변환.\n",
    "\n",
    "2. [함수] 성별이 'M'인 데이터를 필터, Length와 Diameter 간 상관도를 반환\n",
    "\n",
    "3. __name__ 값이 __main__ 이면, 1, 2함수를 실행, 2번 함수의 반환 값을 프린트."
   ]
  },
  {
   "cell_type": "code",
   "execution_count": 37,
   "id": "fae3af63",
   "metadata": {},
   "outputs": [],
   "source": [
    "import requests\n",
    "import numpy as np\n",
    "\n",
    "def nda():\n",
    "    x= requests.get('https://archive.ics.uci.edu/ml/machine-learning-databases/abalone/abalone.data')\n",
    "    raw_data = []\n",
    "    for line in x.text.split('\\n'):\n",
    "        raw_data.append(line.split(','))\n",
    "    np_data = np.array(raw_data[:-1])\n",
    "    return np_data"
   ]
  },
  {
   "cell_type": "code",
   "execution_count": 38,
   "id": "544a0ee6",
   "metadata": {},
   "outputs": [],
   "source": [
    "def cor(np_data): \n",
    "    filter_m = np_data[:, 0] == 'M'\n",
    "    np_data_f = np_data[filter_m]\n",
    "    np_data_f = np_data_f[:, 1:].astype(np.float64)\n",
    "#     data_len = np_data_f[:, 0]\n",
    "#     data_dia = np_data_f[:, 1]\n",
    "    return np.corrcoef(np_data_f[:, 0], np_data_f[:, 1])"
   ]
  },
  {
   "cell_type": "code",
   "execution_count": 40,
   "id": "d69a0834",
   "metadata": {},
   "outputs": [
    {
     "name": "stdout",
     "output_type": "stream",
     "text": [
      "[[1.         0.98190714]\n",
      " [0.98190714 1.        ]]\n"
     ]
    }
   ],
   "source": [
    "if __name__ == 'main' :\n",
    "    a = nda()\n",
    "    b = cor(a)\n",
    "    print(b)"
   ]
  }
 ],
 "metadata": {
  "kernelspec": {
   "display_name": "Python 3 (ipykernel)",
   "language": "python",
   "name": "python3"
  },
  "language_info": {
   "codemirror_mode": {
    "name": "ipython",
    "version": 3
   },
   "file_extension": ".py",
   "mimetype": "text/x-python",
   "name": "python",
   "nbconvert_exporter": "python",
   "pygments_lexer": "ipython3",
   "version": "3.10.9"
  }
 },
 "nbformat": 4,
 "nbformat_minor": 5
}
